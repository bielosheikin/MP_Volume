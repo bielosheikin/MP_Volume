{
 "cells": [
  {
   "cell_type": "markdown",
   "metadata": {},
   "source": [
    "# Simulation Test Notebook\n",
    "\n",
    "This notebook demonstrates how to run and visualize vesicle simulations."
   ]
  },
  {
   "cell_type": "code",
   "execution_count": 1,
   "metadata": {},
   "outputs": [
    {
     "name": "stdout",
     "output_type": "stream",
     "text": [
      "Added to Python path: C:\\Away\\FMP\\App_Git\\MP_Volume\\src\n",
      "Contents of src directory: ['backend', 'frontend', 'nestconf', '__init__.py', '__pycache__']\n"
     ]
    }
   ],
   "source": [
    "import sys\n",
    "import os\n",
    "from pathlib import Path\n",
    "\n",
    "# Add the src directory to the Python path\n",
    "notebook_dir = Path().absolute()\n",
    "src_path = str(notebook_dir.parent / 'src')\n",
    "\n",
    "# Add src to path if not already there\n",
    "if src_path not in sys.path:\n",
    "    sys.path.insert(0, src_path)\n",
    "\n",
    "# Verify the path is correct\n",
    "print(f\"Added to Python path: {src_path}\")\n",
    "print(f\"Contents of src directory: {os.listdir(src_path)}\")"
   ]
  },
  {
   "cell_type": "code",
   "execution_count": 2,
   "metadata": {},
   "outputs": [],
   "source": [
    "from backend.simulation import Simulation\n",
    "from backend.ion_species import IonSpecies\n",
    "from backend.ion_channels import IonChannel\n",
    "from backend.default_channels import default_channels\n",
    "from backend.default_ion_species import default_ion_species\n",
    "from backend.ion_and_channels_link import IonChannelsLink\n",
    "\n",
    "import matplotlib.pyplot as plt\n",
    "import numpy as np"
   ]
  },
  {
   "cell_type": "code",
   "execution_count": 3,
   "metadata": {},
   "outputs": [],
   "source": [
    "# Vesicle and Exterior parameters (from vesicle_tab)\n",
    "vesicle_data = {\n",
    "    \"vesicle_params\": {\n",
    "        \"init_radius\": 1.3e-6,\n",
    "        \"init_voltage\": 0.04,\n",
    "        \"init_pH\": 7.4,\n",
    "    },\n",
    "    \"exterior_params\": {\n",
    "        \"pH\": 7.2,\n",
    "    }\n",
    "}\n",
    "\n",
    "# Simulation parameters (from simulation_tab)\n",
    "simulation_params = {\n",
    "    \"time_step\": 0.001,\n",
    "    \"total_time\": 100.0,\n",
    "}"
   ]
  },
  {
   "cell_type": "code",
   "execution_count": 4,
   "metadata": {},
   "outputs": [],
   "source": [
    "# Use default ion species and channels\n",
    "ion_species_data = default_ion_species\n",
    "channels_data = default_channels\n",
    "\n",
    "# Create ion-channel links\n",
    "ion_channel_links = IonChannelsLink()\n",
    "\n",
    "# Add channel links\n",
    "ion_channel_links.add_link('cl', 'asor')\n",
    "ion_channel_links.add_link('cl', 'clc', 'h')\n",
    "ion_channel_links.add_link('na', 'tpc')\n",
    "ion_channel_links.add_link('na', 'nhe', 'h')\n",
    "ion_channel_links.add_link('h', 'vatpase')\n",
    "ion_channel_links.add_link('cl', 'clc_h', 'h')\n",
    "ion_channel_links.add_link('na', 'nhe_h', 'h')\n",
    "ion_channel_links.add_link('h', 'hleak')\n",
    "ion_channel_links.add_link('k', 'k_channel')"
   ]
  },
  {
   "cell_type": "code",
   "execution_count": 5,
   "metadata": {},
   "outputs": [],
   "source": [
    "def plot_histories(histories):\n",
    "    # Get all histories\n",
    "    all_histories = histories.get_histories()\n",
    "    \n",
    "    # Create subplots for different types of data\n",
    "    fig, axes = plt.subplots(2, 2, figsize=(15, 10))\n",
    "    \n",
    "    # Plot vesicle properties\n",
    "    vesicle_history = all_histories['Vesicle']\n",
    "    time_points = np.arange(len(vesicle_history['voltage'])) * simulation.time_step\n",
    "    \n",
    "    # Voltage plot\n",
    "    axes[0, 0].plot(time_points, vesicle_history['voltage'])\n",
    "    axes[0, 0].set_title('Vesicle Voltage')\n",
    "    axes[0, 0].set_xlabel('Time (s)')\n",
    "    axes[0, 0].set_ylabel('Voltage (V)')\n",
    "    \n",
    "    # pH plot\n",
    "    axes[0, 1].plot(time_points, vesicle_history['pH'])\n",
    "    axes[0, 1].set_title('Vesicle pH')\n",
    "    axes[0, 1].set_xlabel('Time (s)')\n",
    "    axes[0, 1].set_ylabel('pH')\n",
    "    \n",
    "    # Ion concentrations\n",
    "    for ion_name, ion_history in all_histories.items():\n",
    "        if ion_name in ['cl', 'na', 'k', 'h']:\n",
    "            axes[1, 0].plot(time_points, ion_history['vesicle_conc'], label=ion_name)\n",
    "    axes[1, 0].set_title('Ion Concentrations')\n",
    "    axes[1, 0].set_xlabel('Time (s)')\n",
    "    axes[1, 0].set_ylabel('Concentration (M)')\n",
    "    axes[1, 0].legend()\n",
    "    \n",
    "    # Channel fluxes\n",
    "    for channel_name, channel_history in all_histories.items():\n",
    "        if channel_name in ['ASOR', 'CLC', 'TPC', 'NHE', 'VATPase']:\n",
    "            axes[1, 1].plot(time_points, channel_history['flux'], label=channel_name)\n",
    "    axes[1, 1].set_title('Channel Fluxes')\n",
    "    axes[1, 1].set_xlabel('Time (s)')\n",
    "    axes[1, 1].set_ylabel('Flux')\n",
    "    axes[1, 1].legend()\n",
    "    \n",
    "    plt.tight_layout()\n",
    "    plt.show()"
   ]
  },
  {
   "cell_type": "code",
   "execution_count": 6,
   "metadata": {},
   "outputs": [],
   "source": [
    "def run_experiment(vesicle_params=None, simulation_params=None, channel_conductances=None):\n",
    "    # Update vesicle parameters if provided\n",
    "    local_vesicle_data = vesicle_data.copy()\n",
    "    if vesicle_params:\n",
    "        local_vesicle_data['vesicle_params'].update(vesicle_params)\n",
    "    \n",
    "    # Update simulation parameters if provided\n",
    "    local_simulation_params = simulation_params or simulation_params.copy()\n",
    "    \n",
    "    # Update channel conductances if provided\n",
    "    local_channels = channels_data.copy()\n",
    "    if channel_conductances:\n",
    "        for channel_name, conductance in channel_conductances.items():\n",
    "            if channel_name in local_channels:\n",
    "                local_channels[channel_name].conductance = conductance\n",
    "    \n",
    "    # Create and run simulation\n",
    "    simulation = Simulation(\n",
    "        **local_simulation_params,\n",
    "        channels=local_channels,\n",
    "        species=ion_species_data,\n",
    "        ion_channel_links=ion_channel_links,\n",
    "        **local_vesicle_data\n",
    "    )\n",
    "    \n",
    "    histories = simulation.run()\n",
    "    return histories"
   ]
  },
  {
   "cell_type": "code",
   "execution_count": 7,
   "metadata": {},
   "outputs": [
    {
     "ename": "RuntimeError",
     "evalue": "An object with the name ASOR has been already registered",
     "output_type": "error",
     "traceback": [
      "\u001b[1;31m---------------------------------------------------------------------------\u001b[0m",
      "\u001b[1;31mRuntimeError\u001b[0m                              Traceback (most recent call last)",
      "Cell \u001b[1;32mIn[7], line 2\u001b[0m\n\u001b[0;32m      1\u001b[0m \u001b[38;5;66;03m# Create and run the base simulation\u001b[39;00m\n\u001b[1;32m----> 2\u001b[0m simulation \u001b[38;5;241m=\u001b[39m \u001b[43mSimulation\u001b[49m\u001b[43m(\u001b[49m\n\u001b[0;32m      3\u001b[0m \u001b[43m    \u001b[49m\u001b[38;5;241;43m*\u001b[39;49m\u001b[38;5;241;43m*\u001b[39;49m\u001b[43msimulation_params\u001b[49m\u001b[43m,\u001b[49m\n\u001b[0;32m      4\u001b[0m \u001b[43m    \u001b[49m\u001b[43mchannels\u001b[49m\u001b[38;5;241;43m=\u001b[39;49m\u001b[43mchannels_data\u001b[49m\u001b[43m,\u001b[49m\n\u001b[0;32m      5\u001b[0m \u001b[43m    \u001b[49m\u001b[43mspecies\u001b[49m\u001b[38;5;241;43m=\u001b[39;49m\u001b[43mion_species_data\u001b[49m\u001b[43m,\u001b[49m\n\u001b[0;32m      6\u001b[0m \u001b[43m    \u001b[49m\u001b[43mion_channel_links\u001b[49m\u001b[38;5;241;43m=\u001b[39;49m\u001b[43mion_channel_links\u001b[49m\u001b[43m,\u001b[49m\n\u001b[0;32m      7\u001b[0m \u001b[43m    \u001b[49m\u001b[38;5;241;43m*\u001b[39;49m\u001b[38;5;241;43m*\u001b[39;49m\u001b[43mvesicle_data\u001b[49m\n\u001b[0;32m      8\u001b[0m \u001b[43m)\u001b[49m\n\u001b[0;32m     10\u001b[0m \u001b[38;5;66;03m# Run the simulation\u001b[39;00m\n\u001b[0;32m     11\u001b[0m histories \u001b[38;5;241m=\u001b[39m simulation\u001b[38;5;241m.\u001b[39mrun()\n",
      "File \u001b[1;32mC:\\Away\\FMP\\App_Git\\MP_Volume\\src\\backend\\simulation.py:65\u001b[0m, in \u001b[0;36mSimulation.__init__\u001b[1;34m(self, **kwargs)\u001b[0m\n\u001b[0;32m     63\u001b[0m \u001b[38;5;66;03m# Initialize simulation components\u001b[39;00m\n\u001b[0;32m     64\u001b[0m \u001b[38;5;28mself\u001b[39m\u001b[38;5;241m.\u001b[39m_initialize_vesicle_and_exterior()\n\u001b[1;32m---> 65\u001b[0m \u001b[38;5;28;43mself\u001b[39;49m\u001b[38;5;241;43m.\u001b[39;49m\u001b[43m_initialize_species_and_channels\u001b[49m\u001b[43m(\u001b[49m\u001b[43m)\u001b[49m\n",
      "File \u001b[1;32mC:\\Away\\FMP\\App_Git\\MP_Volume\\src\\backend\\simulation.py:92\u001b[0m, in \u001b[0;36mSimulation._initialize_species_and_channels\u001b[1;34m(self)\u001b[0m\n\u001b[0;32m     89\u001b[0m         primary_species\u001b[38;5;241m.\u001b[39mconnect_channel(channel\u001b[38;5;241m=\u001b[39mchannel, secondary_species\u001b[38;5;241m=\u001b[39msecondary_species)\n\u001b[0;32m     91\u001b[0m         \u001b[38;5;66;03m# Register each channel in HistoriesStorage\u001b[39;00m\n\u001b[1;32m---> 92\u001b[0m         \u001b[38;5;28;43mself\u001b[39;49m\u001b[38;5;241;43m.\u001b[39;49m\u001b[43mhistories\u001b[49m\u001b[38;5;241;43m.\u001b[39;49m\u001b[43mregister_object\u001b[49m\u001b[43m(\u001b[49m\u001b[43mchannel\u001b[49m\u001b[43m)\u001b[49m\n\u001b[0;32m     94\u001b[0m \u001b[38;5;66;03m# Step 2: Add species to the simulation\u001b[39;00m\n\u001b[0;32m     95\u001b[0m \u001b[38;5;28;01mfor\u001b[39;00m species \u001b[38;5;129;01min\u001b[39;00m \u001b[38;5;28mself\u001b[39m\u001b[38;5;241m.\u001b[39mspecies\u001b[38;5;241m.\u001b[39mvalues():\n",
      "File \u001b[1;32mC:\\Away\\FMP\\App_Git\\MP_Volume\\src\\backend\\histories_storage.py:15\u001b[0m, in \u001b[0;36mHistoriesStorage.register_object\u001b[1;34m(self, obj)\u001b[0m\n\u001b[0;32m     13\u001b[0m \u001b[38;5;28;01massert\u001b[39;00m \u001b[38;5;28missubclass\u001b[39m(\u001b[38;5;28mtype\u001b[39m(obj), Trackable)\n\u001b[0;32m     14\u001b[0m \u001b[38;5;28;01mif\u001b[39;00m (obj_name \u001b[38;5;241m:=\u001b[39m obj\u001b[38;5;241m.\u001b[39mdisplay_name) \u001b[38;5;129;01min\u001b[39;00m \u001b[38;5;28mself\u001b[39m\u001b[38;5;241m.\u001b[39mobjects:\n\u001b[1;32m---> 15\u001b[0m     \u001b[38;5;28;01mraise\u001b[39;00m \u001b[38;5;167;01mRuntimeError\u001b[39;00m(\u001b[38;5;124mf\u001b[39m\u001b[38;5;124m'\u001b[39m\u001b[38;5;124mAn object with the name \u001b[39m\u001b[38;5;132;01m{\u001b[39;00mobj_name\u001b[38;5;132;01m}\u001b[39;00m\u001b[38;5;124m has been already registered\u001b[39m\u001b[38;5;124m'\u001b[39m)\n\u001b[0;32m     16\u001b[0m \u001b[38;5;28;01melse\u001b[39;00m:\n\u001b[0;32m     17\u001b[0m     \u001b[38;5;28mself\u001b[39m\u001b[38;5;241m.\u001b[39mobjects[obj_name] \u001b[38;5;241m=\u001b[39m obj\n",
      "\u001b[1;31mRuntimeError\u001b[0m: An object with the name ASOR has been already registered"
     ]
    }
   ],
   "source": [
    "# Create and run the base simulation\n",
    "simulation = Simulation(\n",
    "    **simulation_params,\n",
    "    channels=channels_data,\n",
    "    species=ion_species_data,\n",
    "    ion_channel_links=ion_channel_links,\n",
    "    **vesicle_data\n",
    ")\n",
    "\n",
    "# Run the simulation\n",
    "histories = simulation.run()\n",
    "print(\"Base simulation completed!\")\n",
    "plot_histories(histories)"
   ]
  },
  {
   "cell_type": "code",
   "execution_count": null,
   "metadata": {},
   "outputs": [],
   "source": [
    "# Run an experiment with modified parameters\n",
    "print(\"Running experiment with modified parameters...\")\n",
    "experiment_histories = run_experiment(\n",
    "    vesicle_params={\n",
    "        'init_pH': 6.5,\n",
    "        'init_voltage': 0.06\n",
    "    },\n",
    "    channel_conductances={\n",
    "        'asor': 1.2e-4,\n",
    "        'clc': 2e-7\n",
    "    }\n",
    ")\n",
    "plot_histories(experiment_histories)"
   ]
  }
 ],
 "metadata": {
  "kernelspec": {
   "display_name": "Python 3 (ipykernel)",
   "language": "python",
   "name": "python3"
  },
  "language_info": {
   "codemirror_mode": {
    "name": "ipython",
    "version": 3
   },
   "file_extension": ".py",
   "mimetype": "text/x-python",
   "name": "python",
   "nbconvert_exporter": "python",
   "pygments_lexer": "ipython3",
   "version": "3.12.4"
  }
 },
 "nbformat": 4,
 "nbformat_minor": 4
}
