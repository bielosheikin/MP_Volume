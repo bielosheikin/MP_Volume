{
 "cells": [
  {
   "cell_type": "markdown",
   "id": "27d3aa74",
   "metadata": {},
   "source": [
    "# Simulation Test Notebook (Final Version)\n",
    "\n",
    "This notebook demonstrates how to run and visualize vesicle simulations."
   ]
  },
  {
   "cell_type": "code",
   "execution_count": 1,
   "id": "9e87a9d1",
   "metadata": {},
   "outputs": [
    {
     "name": "stdout",
     "output_type": "stream",
     "text": [
      "Added to Python path: c:\\Away\\FMP\\App_Git\\MP_Volume\n",
      "Contents of parent directory: ['.git', '.gitignore', 'app.py', 'app.spec', 'build', 'dist', 'requirements.txt', 'src', 'tests', 'test_nestConfig.ipynb']\n"
     ]
    }
   ],
   "source": [
    "import sys\n",
    "import os\n",
    "from pathlib import Path\n",
    "\n",
    "# Add the parent directory to the Python path\n",
    "notebook_dir = Path().absolute()\n",
    "parent_path = str(notebook_dir.parent)\n",
    "\n",
    "# Add parent directory to path if not already there\n",
    "if parent_path not in sys.path:\n",
    "    sys.path.insert(0, parent_path)\n",
    "\n",
    "# Verify the path is correct\n",
    "print(f\"Added to Python path: {parent_path}\")\n",
    "print(f\"Contents of parent directory: {os.listdir(parent_path)}\")"
   ]
  },
  {
   "cell_type": "code",
   "execution_count": 2,
   "id": "908a91ca",
   "metadata": {},
   "outputs": [],
   "source": [
    "# Import directly from src\n",
    "from src.backend.simulation import Simulation\n",
    "from src.backend.ion_species import IonSpecies\n",
    "from src.backend.ion_channels import IonChannel\n",
    "from src.backend.default_channels import default_channels\n",
    "from src.backend.default_ion_species import default_ion_species\n",
    "from src.backend.ion_and_channels_link import IonChannelsLink\n",
    "\n",
    "import matplotlib.pyplot as plt\n",
    "import numpy as np"
   ]
  },
  {
   "cell_type": "code",
   "execution_count": 4,
   "id": "bc6fa061",
   "metadata": {},
   "outputs": [],
   "source": [
    "# Vesicle and Exterior parameters (from vesicle_tab)\n",
    "vesicle_params = {\n",
    "        \"init_radius\": 1.3e-6,\n",
    "        \"init_voltage\": 0.04,\n",
    "        \"init_pH\": 7.4,\n",
    "    }\n",
    "\n",
    "exterior_params = {\n",
    "        \"pH\": 7.2,\n",
    "    }\n",
    "\n",
    "# Simulation parameters (from simulation_tab)\n",
    "time_step =  0.001\n",
    "total_time =  100.0"
   ]
  },
  {
   "cell_type": "code",
   "execution_count": 5,
   "id": "f3eb4dcd-380a-46f9-badd-8f5e9e6470b8",
   "metadata": {},
   "outputs": [],
   "source": [
    "SimTest = Simulation(\n",
    "                    vesicle_params=vesicle_params, \n",
    "                    exterior_params=exterior_params\n",
    "                    )"
   ]
  },
  {
   "cell_type": "code",
   "execution_count": 9,
   "id": "570b9517",
   "metadata": {},
   "outputs": [
    {
     "name": "stdout",
     "output_type": "stream",
     "text": [
      "0e520e6bc9bee2fa60a9553aece15da60e155c197daf90f83fc69dd7b1d6c844\n",
      "simulation_results_0e520e6bc9bee2fa60a9553aece15da60e155c197daf90f83fc69dd7b1d6c844.json\n"
     ]
    }
   ],
   "source": [
    "simulation_hash = SimTest.config.to_sha256_str()\n",
    "print(simulation_hash)\n",
    "output_filename = f\"simulation_results_{simulation_hash}.json\"\n",
    "print(output_filename)"
   ]
  },
  {
   "cell_type": "code",
   "execution_count": 27,
   "id": "3e0e06bc",
   "metadata": {},
   "outputs": [
    {
     "name": "stdout",
     "output_type": "stream",
     "text": [
      "simulation\n",
      "simtest\n",
      "9.202772079915702e-18\n",
      "1e-19\n"
     ]
    }
   ],
   "source": [
    "print(SimTest.display_name)\n",
    "SimTest.display_name='simtest'\n",
    "print(SimTest.display_name)\n",
    "\n",
    "print(SimTest.vesicle.init_volume)\n",
    "SimTest.vesicle.init_volume = 1e-19\n",
    "print(SimTest.vesicle.init_volume)"
   ]
  }
 ],
 "metadata": {
  "kernelspec": {
   "display_name": "myenv",
   "language": "python",
   "name": "python3"
  },
  "language_info": {
   "codemirror_mode": {
    "name": "ipython",
    "version": 3
   },
   "file_extension": ".py",
   "mimetype": "text/x-python",
   "name": "python",
   "nbconvert_exporter": "python",
   "pygments_lexer": "ipython3",
   "version": "3.12.4"
  }
 },
 "nbformat": 4,
 "nbformat_minor": 5
}
