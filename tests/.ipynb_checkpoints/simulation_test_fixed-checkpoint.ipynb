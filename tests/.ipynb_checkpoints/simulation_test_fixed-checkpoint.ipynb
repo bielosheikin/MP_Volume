{
 "cells": [
  {
   "cell_type": "code",
   "execution_count": null,
   "id": "c1b2fbdd",
   "metadata": {},
   "outputs": [],
   "source": [
    "import sys\n",
    "import os\n",
    "from pathlib import Path"
   ]
  },
  {
   "cell_type": "code",
   "execution_count": null,
   "id": "90169189",
   "metadata": {},
   "outputs": [],
   "source": [
    "# Add the parent directory to the Python path\n",
    "script_dir = Path(__file__).parent\n",
    "parent_path = str(script_dir.parent)"
   ]
  },
  {
   "cell_type": "code",
   "execution_count": null,
   "id": "cad0df0e",
   "metadata": {},
   "outputs": [],
   "source": [
    "# Add parent directory to path if not already there\n",
    "if parent_path not in sys.path:\n",
    "    sys.path.insert(0, parent_path)"
   ]
  },
  {
   "cell_type": "code",
   "execution_count": null,
   "id": "db51623d",
   "metadata": {},
   "outputs": [],
   "source": [
    "# Import directly from src\n",
    "from src.backend.simulation import Simulation\n",
    "from src.backend.ion_species import IonSpecies\n",
    "from src.backend.ion_channels import IonChannel\n",
    "from src.backend.default_channels import default_channels\n",
    "from src.backend.default_ion_species import default_ion_species\n",
    "from src.backend.ion_and_channels_link import IonChannelsLink"
   ]
  },
  {
   "cell_type": "code",
   "execution_count": null,
   "id": "7978c4d3",
   "metadata": {},
   "outputs": [],
   "source": [
    "import matplotlib.pyplot as plt\n",
    "import numpy as np"
   ]
  },
  {
   "cell_type": "code",
   "execution_count": null,
   "id": "c00d3c04",
   "metadata": {},
   "outputs": [],
   "source": [
    "# Vesicle and Exterior parameters (from vesicle_tab)\n",
    "vesicle_data = {\n",
    "    \"vesicle_params\": {\n",
    "        \"init_radius\": 1.3e-6,\n",
    "        \"init_voltage\": 0.04,\n",
    "        \"init_pH\": 7.4,\n",
    "    },\n",
    "    \"exterior_params\": {\n",
    "        \"pH\": 7.2,\n",
    "    }\n",
    "}"
   ]
  },
  {
   "cell_type": "code",
   "execution_count": null,
   "id": "53befd6a",
   "metadata": {},
   "outputs": [],
   "source": [
    "# Simulation parameters (from simulation_tab)\n",
    "simulation_params = {\n",
    "    \"time_step\": 0.001,\n",
    "    \"total_time\": 100.0,\n",
    "}"
   ]
  },
  {
   "cell_type": "code",
   "execution_count": null,
   "id": "f61b21be",
   "metadata": {},
   "outputs": [],
   "source": [
    "# Create a fresh instance of IonChannelsLink to avoid duplicate registration\n",
    "ion_channel_links = IonChannelsLink()"
   ]
  },
  {
   "cell_type": "code",
   "execution_count": null,
   "id": "596070a2",
   "metadata": {},
   "outputs": [],
   "source": [
    "# Use default ion species and channels\n",
    "ion_species_data = default_ion_species.copy()\n",
    "channels_data = default_channels.copy()"
   ]
  },
  {
   "cell_type": "code",
   "execution_count": null,
   "id": "cb947447",
   "metadata": {
    "lines_to_next_cell": 1
   },
   "outputs": [],
   "source": [
    "# Add channel links\n",
    "ion_channel_links.add_link('cl', 'asor')\n",
    "ion_channel_links.add_link('cl', 'clc', 'h')\n",
    "ion_channel_links.add_link('na', 'tpc')\n",
    "ion_channel_links.add_link('na', 'nhe', 'h')\n",
    "ion_channel_links.add_link('h', 'vatpase')\n",
    "ion_channel_links.add_link('cl', 'clc_h', 'h')\n",
    "ion_channel_links.add_link('na', 'nhe_h', 'h')\n",
    "ion_channel_links.add_link('h', 'hleak')\n",
    "ion_channel_links.add_link('k', 'k_channel')"
   ]
  },
  {
   "cell_type": "code",
   "execution_count": null,
   "id": "742de857",
   "metadata": {
    "lines_to_next_cell": 1
   },
   "outputs": [],
   "source": [
    "def plot_histories(histories):\n",
    "    # Get all histories\n",
    "    all_histories = histories.get_histories()\n",
    "    \n",
    "    # Create subplots for different types of data\n",
    "    fig, axes = plt.subplots(2, 2, figsize=(15, 10))\n",
    "    \n",
    "    # Plot vesicle properties\n",
    "    vesicle_history = all_histories['Vesicle']\n",
    "    time_points = np.arange(len(vesicle_history['voltage'])) * simulation.time_step\n",
    "    \n",
    "    # Voltage plot\n",
    "    axes[0, 0].plot(time_points, vesicle_history['voltage'])\n",
    "    axes[0, 0].set_title('Vesicle Voltage')\n",
    "    axes[0, 0].set_xlabel('Time (s)')\n",
    "    axes[0, 0].set_ylabel('Voltage (V)')\n",
    "    \n",
    "    # pH plot\n",
    "    axes[0, 1].plot(time_points, vesicle_history['pH'])\n",
    "    axes[0, 1].set_title('Vesicle pH')\n",
    "    axes[0, 1].set_xlabel('Time (s)')\n",
    "    axes[0, 1].set_ylabel('pH')\n",
    "    \n",
    "    # Ion concentrations\n",
    "    for ion_name, ion_history in all_histories.items():\n",
    "        if ion_name in ['cl', 'na', 'k', 'h']:\n",
    "            axes[1, 0].plot(time_points, ion_history['vesicle_conc'], label=ion_name)\n",
    "    axes[1, 0].set_title('Ion Concentrations')\n",
    "    axes[1, 0].set_xlabel('Time (s)')\n",
    "    axes[1, 0].set_ylabel('Concentration (M)')\n",
    "    axes[1, 0].legend()\n",
    "    \n",
    "    # Channel fluxes\n",
    "    for channel_name, channel_history in all_histories.items():\n",
    "        if channel_name in ['ASOR', 'CLC', 'TPC', 'NHE', 'VATPase']:\n",
    "            axes[1, 1].plot(time_points, channel_history['flux'], label=channel_name)\n",
    "    axes[1, 1].set_title('Channel Fluxes')\n",
    "    axes[1, 1].set_xlabel('Time (s)')\n",
    "    axes[1, 1].set_ylabel('Flux')\n",
    "    axes[1, 1].legend()\n",
    "    \n",
    "    plt.tight_layout()\n",
    "    plt.show()"
   ]
  },
  {
   "cell_type": "code",
   "execution_count": null,
   "id": "a7b9c967",
   "metadata": {
    "lines_to_next_cell": 1
   },
   "outputs": [],
   "source": [
    "def run_experiment(vesicle_params=None, simulation_params=None, channel_conductances=None):\n",
    "    # Update vesicle parameters if provided\n",
    "    local_vesicle_data = vesicle_data.copy()\n",
    "    if vesicle_params:\n",
    "        local_vesicle_data['vesicle_params'].update(vesicle_params)\n",
    "    \n",
    "    # Update simulation parameters if provided\n",
    "    local_simulation_params = simulation_params or simulation_params.copy()\n",
    "    \n",
    "    # Update channel conductances if provided\n",
    "    local_channels = channels_data.copy()\n",
    "    if channel_conductances:\n",
    "        for channel_name, conductance in channel_conductances.items():\n",
    "            if channel_name in local_channels:\n",
    "                local_channels[channel_name].conductance = conductance\n",
    "    \n",
    "    # Create and run simulation\n",
    "    simulation = Simulation(\n",
    "        **local_simulation_params,\n",
    "        channels=local_channels,\n",
    "        species=ion_species_data,\n",
    "        ion_channel_links=ion_channel_links,\n",
    "        **local_vesicle_data\n",
    "    )\n",
    "    \n",
    "    histories = simulation.run()\n",
    "    return histories"
   ]
  },
  {
   "cell_type": "code",
   "execution_count": null,
   "id": "662ba88c",
   "metadata": {},
   "outputs": [],
   "source": [
    "if __name__ == \"__main__\":\n",
    "    # Create and run the base simulation\n",
    "    simulation = Simulation(\n",
    "        **simulation_params,\n",
    "        channels=channels_data,\n",
    "        species=ion_species_data,\n",
    "        ion_channel_links=ion_channel_links,\n",
    "        **vesicle_data\n",
    "    )\n",
    "\n",
    "    # Run the simulation\n",
    "    histories = simulation.run()\n",
    "    print(\"Base simulation completed!\")\n",
    "    plot_histories(histories)\n",
    "\n",
    "    # Run an experiment with modified parameters\n",
    "    print(\"\\nRunning experiment with modified parameters...\")\n",
    "    experiment_histories = run_experiment(\n",
    "        vesicle_params={\n",
    "            'init_pH': 6.5,\n",
    "            'init_voltage': 0.06\n",
    "        },\n",
    "        channel_conductances={\n",
    "            'asor': 1.2e-4,\n",
    "            'clc': 2e-7\n",
    "        }\n",
    "    )\n",
    "    plot_histories(experiment_histories) "
   ]
  }
 ],
 "metadata": {
  "jupytext": {
   "cell_metadata_filter": "-all",
   "main_language": "python",
   "notebook_metadata_filter": "-all"
  }
 },
 "nbformat": 4,
 "nbformat_minor": 5
}
